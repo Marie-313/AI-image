{
  "nbformat": 4,
  "nbformat_minor": 0,
  "metadata": {
    "colab": {
      "provenance": [],
      "authorship_tag": "ABX9TyMgK8KckypXar2XyKhgJpSM",
      "include_colab_link": true
    },
    "kernelspec": {
      "name": "python3",
      "display_name": "Python 3"
    },
    "language_info": {
      "name": "python"
    }
  },
  "cells": [
    {
      "cell_type": "markdown",
      "metadata": {
        "id": "view-in-github",
        "colab_type": "text"
      },
      "source": [
        "<a href=\"https://colab.research.google.com/github/Marie-313/AI-image/blob/main/week2finalproject.ipynb\" target=\"_parent\"><img src=\"https://colab.research.google.com/assets/colab-badge.svg\" alt=\"Open In Colab\"/></a>"
      ]
    },
    {
      "cell_type": "code",
      "execution_count": null,
      "metadata": {
        "id": "HenROIoX4Zud"
      },
      "outputs": [],
      "source": []
    },
    {
      "cell_type": "code",
      "execution_count": null,
      "metadata": {
        "id": "2re3dIRgd2Hh",
        "colab": {
          "base_uri": "https://localhost:8080/",
          "height": 34
        },
        "outputId": "072b7006-0698-4dfa-8eef-56224603bd1c"
      },
      "outputs": [
        {
          "output_type": "display_data",
          "data": {
            "text/plain": [
              "\u001b[1;33mWelcome to the AI Road Buddy\u001b[0m\n"
            ],
            "text/html": [
              "<pre style=\"white-space:pre;overflow-x:auto;line-height:normal;font-family:Menlo,'DejaVu Sans Mono',consolas,'Courier New',monospace\"><span style=\"color: #808000; text-decoration-color: #808000; font-weight: bold\">Welcome to the AI Road Buddy</span>\n",
              "</pre>\n"
            ]
          },
          "metadata": {}
        }
      ],
      "source": [
        "import requests\n",
        "from rich import print\n",
        "from rich.markdown import Markdown\n",
        "\n",
        "def display_current_weather(location):\n",
        "  \"\"\" Get the real time temperature and condition in a location \"\"\"\n",
        "  api_key = \"2046c535afeb092fo82f1d306d8a2b2t\"\n",
        "  api_url = f\"https://api.shecodes.io/weather/v1/current?query={location}&key={api_key}&units=metric\"\n",
        "\n",
        "  response = requests.get(api_url)\n",
        "  response_data = response.json()\n",
        "\n",
        "  temperature = round(response_data['temperature']['current'])\n",
        "  condition = response_data['condition']['description']\n",
        "\n",
        "  print(f\"The current temperature in [bold]{location}[/bold] is [bold]{temperature}°C[/bold], {condition}.\\n\")\n",
        "\n",
        "def generate_itinerary(origin, destination, duration):\n",
        "  \"\"\" Generate travel itinerary between 2 places using AI \"\"\"\n",
        "  print(f\"\\n\\nGenerating itinerary from {origin} to {destination}..\\n\")\n",
        "  prompt = f\"Generate a travel itinerary from {origin} to {destination} in {duration} days. This is a road, keep it short, less than 15 lines, add some emojis (not more than 5) to make readable. Add an estimated price of each day in euros\"\n",
        "\n",
        "  context = \"You a travel specialist and know the best tourist spots around the world\"\n",
        "  api_key = \"2046c535afeb092fo82f1d306d8a2b2t\"\n",
        "  api_url = f\"https://api.shecodes.io/ai/v1/generate?prompt={prompt}&context={context}&key={api_key}\"\n",
        "\n",
        "  response = requests.get(api_url)\n",
        "  response_data = response.json()\n",
        "  itinerary = Markdown(response_data['answer'])\n",
        "\n",
        "  print(itinerary)\n",
        "\n",
        "\n",
        "def welcome():\n",
        "  \"\"\" Welcome message \"\"\"\n",
        "  print(\"[bold yellow]Welcome to the AI Road Buddy[/bold yellow]\")\n",
        "\n",
        "\n",
        "def credit():\n",
        "  \"\"\" Credit message \"\"\"\n",
        "  print(\"[magenta]The AI Road Buddy was built by [bold]Maria Weathington[/bold], thank you for using it ✨👌[/magenta]\")\n",
        "\n",
        "\n",
        "welcome()\n",
        "\n",
        "# User inputs\n",
        "origin = input(\"What city does your trip start from? \")\n",
        "destination = input(\"What city is your trip going to? \")\n",
        "duration = input(\"How many days will your trip last? (enter a number only, i.e 5) \")\n",
        "\n",
        "if origin and destination and duration.isdigit():\n",
        "  display_current_weather(origin)\n",
        "  display_current_weather(destination)\n",
        "  generate_itinerary(origin, destination, duration)\n",
        "  credit()\n",
        "else:\n",
        "  print(\"Please try again. Make sure you enter valid information\")"
      ]
    }
  ]
}